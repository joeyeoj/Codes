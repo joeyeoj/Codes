{
 "cells": [
  {
   "cell_type": "code",
   "execution_count": 6,
   "metadata": {},
   "outputs": [
    {
     "name": "stdout",
     "output_type": "stream",
     "text": [
      "Filename: /Users/joey/Chandra_data/942/repro/flux_broad.flux\n",
      "No.    Name      Ver    Type      Cards   Dimensions   Format\n",
      "  0  PRIMARY       1 PrimaryHDU      30   ()      \n",
      "  1  HISTOGRAM     1 BinTableHDU    602   1R x 69C   [1D, 1D, 1D, 1D, 16A, 2D, 1D, 2D, 1I, 1D, 1D, 1D, 1D, 1D, 1D, 1D, 1D, 1D, 1D, 1D, 1D, 1D, 1D, 1D, 1D, 1D, 1D, 1D, 1D, 1D, 1D, 1D, 1D, 1D, 1L, 1L, 1J, 1D, 1D, 1D, 1D, 1D, 1D, 1D, 1D, 1D, 1D, 1D, 1D, 1D, 1D, 1D, 1D, 1D, 1L, 1D, 1D, 1D, 1D, 1D, 1D, 1D, 1D, 1D, 1D, 1D, 1D, 1D, 1J]   \n",
      "  2  GTI           7 BinTableHDU     26   1R x 2C   [1D, 1D]   \n",
      "  3  GTI           2 BinTableHDU     26   2R x 2C   [1D, 1D]   \n",
      "  4  GTI           5 BinTableHDU     26   1R x 2C   [1D, 1D]   \n",
      "  5  GTI           6 BinTableHDU     26   2R x 2C   [1D, 1D]   \n",
      "  6  GTI           3 BinTableHDU     26   1R x 2C   [1D, 1D]   \n",
      "  7  GTI           8 BinTableHDU     26   1R x 2C   [1D, 1D]   \n",
      "SIMPLE  =                    T / file does conform to FITS standard             BITPIX  =                   16 / number of bits per data pixel                  NAXIS   =                    0 / number of data axes                            EXTEND  =                    T / FITS dataset may contain extensions            COMMENT   FITS (Flexible Image Transport System) format is defined in 'AstronomyCOMMENT   and Astrophysics', volume 376, page 359; bibcode: 2001A&A...376..359H HDUNAME = 'PRIMARY '                                                            ORIGIN  = 'ASC     '           / Source of FITS file                            CREATOR = 'cxc - Version CIAO 4.15' / tool that created this output             CHECKSUM= 'VCc7XAc5VAc5VAc5'   / HDU checksum updated 2023-11-16T04:16:56       DATASUM = '        '           / data unit checksum updated 2023-11-16T04:16:56 DATE    = '2023-11-16T04:16:56' / Date and time of file creation                ASCDSVER= 'CIAO 4.15'          / ASCDS version number                           MJD-OBS =  5.1684533442944E+04 / Modified Julian date of observation            DATE-OBS= '2000-05-20T12:48:09' / Observation start date                        DATE-END= '2000-05-21T03:13:30' / Observation end date                          TIMESYS = 'TT      '           / Time system                                    MJDREF  =  5.0814000000000E+04 / [d] MJD zero point for times                   TIMEZERO=  0.0000000000000E+00 / [s] Clock correction                           TIMEUNIT= 's       '           / Time unit                                      CLOCKAPP=                    T / default                                        TSTART  =  7.5214089470329E+07 / [s] Observation start time (MET)               TSTOP   =  7.5266010334737E+07 / [s] Observation end time (MET)                 MISSION = 'AXAF    '           / Mission                                        TELESCOP= 'CHANDRA '           / Telescope                                      INSTRUME= 'ACIS    '           / Instrument                                     DS_IDENT= '10.25574/00942'     / Dataset Identifier: DOI                        OBS_ID  = '942     '           / Observation id                                 OBI_NUM =                    1 / Obi number                                     SEQ_NUM = '900014  '           / Sequence number                                END                                                                                                                                                                                                                                                                                                                                                                                                                                                                                             \n"
     ]
    }
   ],
   "source": [
    "from astropy.io import fits\n",
    "\n",
    "# Open the FITS file\n",
    "with fits.open('/Users/joey/Chandra_data/942/repro/flux_broad.flux') as hdul:\n",
    "    # Print the header information\n",
    "    hdul.info()\n",
    "    print(hdul[0].header)"
   ]
  },
  {
   "cell_type": "code",
   "execution_count": null,
   "metadata": {},
   "outputs": [],
   "source": []
  }
 ],
 "metadata": {
  "kernelspec": {
   "display_name": "Python 3",
   "language": "python",
   "name": "python3"
  },
  "language_info": {
   "codemirror_mode": {
    "name": "ipython",
    "version": 3
   },
   "file_extension": ".py",
   "mimetype": "text/x-python",
   "name": "python",
   "nbconvert_exporter": "python",
   "pygments_lexer": "ipython3",
   "version": "3.11.5"
  }
 },
 "nbformat": 4,
 "nbformat_minor": 2
}
