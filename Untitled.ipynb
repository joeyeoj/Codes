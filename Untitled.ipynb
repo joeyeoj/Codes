{
 "cells": [
  {
   "cell_type": "code",
   "execution_count": 1,
   "id": "e300b48c",
   "metadata": {},
   "outputs": [],
   "source": [
    "import astropy.constants as ac\n",
    "import astropy.units as au\n",
    "import numpy as np"
   ]
  },
  {
   "cell_type": "code",
   "execution_count": 22,
   "id": "bf27811c",
   "metadata": {},
   "outputs": [
    {
     "data": {
      "text/latex": [
       "$6.9483251 \\times 10^{41} \\; \\mathrm{\\frac{erg}{s}}$"
      ],
      "text/plain": [
       "<Quantity 6.94832511e+41 erg / s>"
      ]
     },
     "execution_count": 22,
     "metadata": {},
     "output_type": "execute_result"
    }
   ],
   "source": [
    "1.8*10**(-14)*au.erg*(au.cm)**(-2)/au.s*4*np.pi*((568*10**6*au.pc).to(au.cm))**2"
   ]
  },
  {
   "cell_type": "code",
   "execution_count": 24,
   "id": "8eba2a33",
   "metadata": {},
   "outputs": [
    {
     "data": {
      "text/latex": [
       "$1.4989623 \\times 10^{11} \\; \\mathrm{\\frac{m}{cm\\,s}}$"
      ],
      "text/plain": [
       "<Quantity 1.49896229e+11 m / (cm s)>"
      ]
     },
     "execution_count": 24,
     "metadata": {},
     "output_type": "execute_result"
    }
   ],
   "source": [
    "ac.c/(2*10**4*au.nm).to(au.cm)"
   ]
  },
  {
   "cell_type": "code",
   "execution_count": 26,
   "id": "c8eb115e",
   "metadata": {},
   "outputs": [
    {
     "data": {
      "text/latex": [
       "$1.1604518 \\times 10^{8} \\; \\mathrm{K}$"
      ],
      "text/plain": [
       "<Quantity 1.16045181e+08 K>"
      ]
     },
     "execution_count": 26,
     "metadata": {},
     "output_type": "execute_result"
    }
   ],
   "source": [
    "(10**4*au.eV).to(au.J)/ac.k_B"
   ]
  },
  {
   "cell_type": "code",
   "execution_count": 2,
   "id": "5657580a",
   "metadata": {},
   "outputs": [
    {
     "data": {
      "text/latex": [
       "$157821.45 \\; \\mathrm{K}$"
      ],
      "text/plain": [
       "<Quantity 157821.44645308 K>"
      ]
     },
     "execution_count": 2,
     "metadata": {},
     "output_type": "execute_result"
    }
   ],
   "source": [
    "(13.6*au.eV).to(au.J)/ac.k_B"
   ]
  },
  {
   "cell_type": "code",
   "execution_count": 3,
   "id": "c58b1080",
   "metadata": {},
   "outputs": [
    {
     "data": {
      "text/latex": [
       "$1.083778 \\times 10^{-6} \\; \\mathrm{m}$"
      ],
      "text/plain": [
       "<Quantity 1.08377796e-06 m>"
      ]
     },
     "execution_count": 3,
     "metadata": {},
     "output_type": "execute_result"
    }
   ],
   "source": [
    "ac.h*ac.c/((20.964-19.820)*au.eV).to(au.J)"
   ]
  },
  {
   "cell_type": "code",
   "execution_count": null,
   "id": "1dfe4b0f",
   "metadata": {},
   "outputs": [],
   "source": []
  }
 ],
 "metadata": {
  "kernelspec": {
   "display_name": "Python 3 (ipykernel)",
   "language": "python",
   "name": "python3"
  },
  "language_info": {
   "codemirror_mode": {
    "name": "ipython",
    "version": 3
   },
   "file_extension": ".py",
   "mimetype": "text/x-python",
   "name": "python",
   "nbconvert_exporter": "python",
   "pygments_lexer": "ipython3",
   "version": "3.11.5"
  }
 },
 "nbformat": 4,
 "nbformat_minor": 5
}
